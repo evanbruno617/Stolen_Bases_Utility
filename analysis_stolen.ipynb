{
 "cells": [
  {
   "cell_type": "code",
   "execution_count": 13,
   "id": "e83d2e44",
   "metadata": {},
   "outputs": [],
   "source": [
    "import pandas as pd\n",
    "import numpy as np\n",
    "# Import our dependencies\n",
    "import pandas as pd\n",
    "import matplotlib as plt\n",
    "from sklearn.datasets import make_blobs\n",
    "import sklearn as skl\n",
    "import tensorflow as tf\n",
    "from imblearn.over_sampling import RandomOverSampler\n",
    "from imblearn.combine import SMOTEENN\n",
    "from tensorflow.keras.layers import Dense, Dropout\n",
    "# Use sklearn to split dataset\n",
    "from sklearn.model_selection import train_test_split\n",
    "from sklearn.ensemble import RandomForestClassifier, RandomForestRegressor\n",
    "from sklearn.ensemble import GradientBoostingClassifier\n",
    "from sklearn.metrics import precision_score, recall_score, f1_score\n",
    "from sklearn.metrics import mean_squared_error\n",
    "from sklearn.metrics import confusion_matrix, accuracy_score, classification_report"
   ]
  },
  {
   "cell_type": "code",
   "execution_count": 3,
   "id": "1c7f22e3",
   "metadata": {},
   "outputs": [
    {
     "data": {
      "text/html": [
       "<div>\n",
       "<style scoped>\n",
       "    .dataframe tbody tr th:only-of-type {\n",
       "        vertical-align: middle;\n",
       "    }\n",
       "\n",
       "    .dataframe tbody tr th {\n",
       "        vertical-align: top;\n",
       "    }\n",
       "\n",
       "    .dataframe thead th {\n",
       "        text-align: right;\n",
       "    }\n",
       "</style>\n",
       "<table border=\"1\" class=\"dataframe\">\n",
       "  <thead>\n",
       "    <tr style=\"text-align: right;\">\n",
       "      <th></th>\n",
       "      <th>Unnamed: 0</th>\n",
       "      <th>Sprint_runner</th>\n",
       "      <th>Exchange_runner</th>\n",
       "      <th>Result_runner</th>\n",
       "      <th>Arm_Strength_runner</th>\n",
       "      <th>Result_catcher</th>\n",
       "      <th>Exchange_catcher</th>\n",
       "      <th>Arm_Strength_catcher</th>\n",
       "      <th>Sprint_catcher</th>\n",
       "      <th>Result</th>\n",
       "    </tr>\n",
       "  </thead>\n",
       "  <tbody>\n",
       "    <tr>\n",
       "      <th>0</th>\n",
       "      <td>0</td>\n",
       "      <td>28.013333</td>\n",
       "      <td>0.728000</td>\n",
       "      <td>0.633333</td>\n",
       "      <td>79.724000</td>\n",
       "      <td>0.733333</td>\n",
       "      <td>0.732</td>\n",
       "      <td>86.480000</td>\n",
       "      <td>27.455172</td>\n",
       "      <td>0</td>\n",
       "    </tr>\n",
       "    <tr>\n",
       "      <th>1</th>\n",
       "      <td>1</td>\n",
       "      <td>27.260000</td>\n",
       "      <td>0.712222</td>\n",
       "      <td>0.900000</td>\n",
       "      <td>80.222222</td>\n",
       "      <td>0.766667</td>\n",
       "      <td>0.750</td>\n",
       "      <td>81.400000</td>\n",
       "      <td>28.073077</td>\n",
       "      <td>1</td>\n",
       "    </tr>\n",
       "    <tr>\n",
       "      <th>2</th>\n",
       "      <td>2</td>\n",
       "      <td>27.260000</td>\n",
       "      <td>0.712222</td>\n",
       "      <td>0.900000</td>\n",
       "      <td>80.222222</td>\n",
       "      <td>0.766667</td>\n",
       "      <td>0.750</td>\n",
       "      <td>81.400000</td>\n",
       "      <td>28.073077</td>\n",
       "      <td>1</td>\n",
       "    </tr>\n",
       "    <tr>\n",
       "      <th>3</th>\n",
       "      <td>3</td>\n",
       "      <td>27.960000</td>\n",
       "      <td>0.720000</td>\n",
       "      <td>1.000000</td>\n",
       "      <td>77.214286</td>\n",
       "      <td>0.666667</td>\n",
       "      <td>0.706</td>\n",
       "      <td>82.300000</td>\n",
       "      <td>28.318750</td>\n",
       "      <td>1</td>\n",
       "    </tr>\n",
       "    <tr>\n",
       "      <th>4</th>\n",
       "      <td>4</td>\n",
       "      <td>29.900000</td>\n",
       "      <td>0.732500</td>\n",
       "      <td>0.900000</td>\n",
       "      <td>82.175000</td>\n",
       "      <td>0.633333</td>\n",
       "      <td>0.750</td>\n",
       "      <td>84.376667</td>\n",
       "      <td>27.542857</td>\n",
       "      <td>1</td>\n",
       "    </tr>\n",
       "  </tbody>\n",
       "</table>\n",
       "</div>"
      ],
      "text/plain": [
       "   Unnamed: 0  Sprint_runner  Exchange_runner  Result_runner  \\\n",
       "0           0      28.013333         0.728000       0.633333   \n",
       "1           1      27.260000         0.712222       0.900000   \n",
       "2           2      27.260000         0.712222       0.900000   \n",
       "3           3      27.960000         0.720000       1.000000   \n",
       "4           4      29.900000         0.732500       0.900000   \n",
       "\n",
       "   Arm_Strength_runner  Result_catcher  Exchange_catcher  \\\n",
       "0            79.724000        0.733333             0.732   \n",
       "1            80.222222        0.766667             0.750   \n",
       "2            80.222222        0.766667             0.750   \n",
       "3            77.214286        0.666667             0.706   \n",
       "4            82.175000        0.633333             0.750   \n",
       "\n",
       "   Arm_Strength_catcher  Sprint_catcher  Result  \n",
       "0             86.480000       27.455172       0  \n",
       "1             81.400000       28.073077       1  \n",
       "2             81.400000       28.073077       1  \n",
       "3             82.300000       28.318750       1  \n",
       "4             84.376667       27.542857       1  "
      ]
     },
     "execution_count": 3,
     "metadata": {},
     "output_type": "execute_result"
    }
   ],
   "source": [
    "stolen_df = pd.read_csv('stolen_df.csv')\n",
    "stolen_df.head()"
   ]
  },
  {
   "cell_type": "code",
   "execution_count": 7,
   "id": "60546883",
   "metadata": {},
   "outputs": [],
   "source": [
    "stolen_df.dropna(inplace=True)"
   ]
  },
  {
   "cell_type": "code",
   "execution_count": 8,
   "id": "83fd72ab",
   "metadata": {},
   "outputs": [
    {
     "data": {
      "text/plain": [
       "20136"
      ]
     },
     "execution_count": 8,
     "metadata": {},
     "output_type": "execute_result"
    }
   ],
   "source": [
    "len(stolen_df)"
   ]
  },
  {
   "cell_type": "code",
   "execution_count": 9,
   "id": "c5cc6c4c",
   "metadata": {},
   "outputs": [
    {
     "data": {
      "text/plain": [
       "array([0, 1, 1, 1, 1])"
      ]
     },
     "execution_count": 9,
     "metadata": {},
     "output_type": "execute_result"
    }
   ],
   "source": [
    "chosen = 'Result'\n",
    "\n",
    "X = stolen_df.drop(columns=[chosen, 'Unnamed: 0'])\n",
    "\n",
    "# Define the target set.\n",
    "y = stolen_df[chosen].ravel()\n",
    "y[:5]"
   ]
  },
  {
   "cell_type": "code",
   "execution_count": 10,
   "id": "3d0056fd",
   "metadata": {},
   "outputs": [],
   "source": [
    "X_train, X_test, y_train, y_test = train_test_split(X, y, random_state=78)\n",
    "\n",
    "# Create a random forest classifier.\n",
    "rf_model = RandomForestClassifier(n_estimators=500, random_state=78) \n",
    "\n",
    "\n",
    "# Fitting the model\n",
    "rf_model = rf_model.fit(X_train, y_train)\n",
    "\n",
    "# Making predictions using the testing data.\n",
    "predictions = rf_model.predict(X_test)"
   ]
  },
  {
   "cell_type": "code",
   "execution_count": 14,
   "id": "23dea5e6",
   "metadata": {},
   "outputs": [
    {
     "data": {
      "text/plain": [
       "array([[ 638,  344],\n",
       "       [  82, 3970]])"
      ]
     },
     "execution_count": 14,
     "metadata": {},
     "output_type": "execute_result"
    }
   ],
   "source": [
    "# Calculating the confusion matrix.\n",
    "cm = confusion_matrix(y_test, predictions)\n",
    "cm"
   ]
  },
  {
   "cell_type": "code",
   "execution_count": 16,
   "id": "65dd963f",
   "metadata": {},
   "outputs": [
    {
     "name": "stdout",
     "output_type": "stream",
     "text": [
      "Classification Report\n",
      "              precision    recall  f1-score   support\n",
      "\n",
      "           0       0.89      0.65      0.75       982\n",
      "           1       0.92      0.98      0.95      4052\n",
      "\n",
      "    accuracy                           0.92      5034\n",
      "   macro avg       0.90      0.81      0.85      5034\n",
      "weighted avg       0.91      0.92      0.91      5034\n",
      "\n"
     ]
    }
   ],
   "source": [
    "# Displaying results\n",
    "print(\"Classification Report\")\n",
    "print(classification_report(y_test, predictions))"
   ]
  }
 ],
 "metadata": {
  "kernelspec": {
   "display_name": "mykernel",
   "language": "python",
   "name": "mykernel"
  },
  "language_info": {
   "codemirror_mode": {
    "name": "ipython",
    "version": 3
   },
   "file_extension": ".py",
   "mimetype": "text/x-python",
   "name": "python",
   "nbconvert_exporter": "python",
   "pygments_lexer": "ipython3",
   "version": "3.8.13"
  }
 },
 "nbformat": 4,
 "nbformat_minor": 5
}
