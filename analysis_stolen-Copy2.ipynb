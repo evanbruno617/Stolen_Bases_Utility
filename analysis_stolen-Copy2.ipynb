{
 "cells": [
  {
   "cell_type": "code",
   "execution_count": 1,
   "id": "e83d2e44",
   "metadata": {},
   "outputs": [],
   "source": [
    "import pandas as pd\n",
    "import numpy as np\n",
    "# Import our dependencies\n",
    "import pandas as pd\n",
    "import matplotlib as plt\n",
    "from sklearn.datasets import make_blobs\n",
    "import sklearn as skl\n",
    "import tensorflow as tf\n",
    "from imblearn.over_sampling import RandomOverSampler\n",
    "from imblearn.combine import SMOTEENN\n",
    "from tensorflow.keras.layers import Dense, Dropout\n",
    "# Use sklearn to split dataset\n",
    "from sklearn.model_selection import train_test_split\n",
    "from sklearn.ensemble import RandomForestClassifier, RandomForestRegressor\n",
    "from sklearn.ensemble import GradientBoostingClassifier\n",
    "from sklearn.metrics import precision_score, recall_score, f1_score\n",
    "from sklearn.metrics import mean_squared_error\n",
    "from sklearn.metrics import confusion_matrix, accuracy_score, classification_report"
   ]
  },
  {
   "cell_type": "code",
   "execution_count": 2,
   "id": "1c7f22e3",
   "metadata": {},
   "outputs": [
    {
     "data": {
      "text/html": [
       "<div>\n",
       "<style scoped>\n",
       "    .dataframe tbody tr th:only-of-type {\n",
       "        vertical-align: middle;\n",
       "    }\n",
       "\n",
       "    .dataframe tbody tr th {\n",
       "        vertical-align: top;\n",
       "    }\n",
       "\n",
       "    .dataframe thead th {\n",
       "        text-align: right;\n",
       "    }\n",
       "</style>\n",
       "<table border=\"1\" class=\"dataframe\">\n",
       "  <thead>\n",
       "    <tr style=\"text-align: right;\">\n",
       "      <th></th>\n",
       "      <th>Unnamed: 0</th>\n",
       "      <th>Sprint_runner</th>\n",
       "      <th>Exchange_runner</th>\n",
       "      <th>Result_runner</th>\n",
       "      <th>Arm_Strength_runner</th>\n",
       "      <th>Result_catcher</th>\n",
       "      <th>Exchange_catcher</th>\n",
       "      <th>Arm_Strength_catcher</th>\n",
       "      <th>Sprint_catcher</th>\n",
       "      <th>Result</th>\n",
       "    </tr>\n",
       "  </thead>\n",
       "  <tbody>\n",
       "    <tr>\n",
       "      <th>0</th>\n",
       "      <td>0</td>\n",
       "      <td>27.94</td>\n",
       "      <td>0.723333</td>\n",
       "      <td>0.6</td>\n",
       "      <td>79.966667</td>\n",
       "      <td>0.8</td>\n",
       "      <td>0.74</td>\n",
       "      <td>84.9</td>\n",
       "      <td>27.050000</td>\n",
       "      <td>0</td>\n",
       "    </tr>\n",
       "    <tr>\n",
       "      <th>1</th>\n",
       "      <td>1</td>\n",
       "      <td>27.20</td>\n",
       "      <td>0.716000</td>\n",
       "      <td>1.0</td>\n",
       "      <td>80.620000</td>\n",
       "      <td>0.7</td>\n",
       "      <td>0.75</td>\n",
       "      <td>81.4</td>\n",
       "      <td>28.050000</td>\n",
       "      <td>1</td>\n",
       "    </tr>\n",
       "    <tr>\n",
       "      <th>2</th>\n",
       "      <td>2</td>\n",
       "      <td>27.20</td>\n",
       "      <td>0.716000</td>\n",
       "      <td>1.0</td>\n",
       "      <td>80.620000</td>\n",
       "      <td>0.7</td>\n",
       "      <td>0.75</td>\n",
       "      <td>81.4</td>\n",
       "      <td>28.050000</td>\n",
       "      <td>1</td>\n",
       "    </tr>\n",
       "    <tr>\n",
       "      <th>3</th>\n",
       "      <td>3</td>\n",
       "      <td>27.80</td>\n",
       "      <td>0.692000</td>\n",
       "      <td>1.0</td>\n",
       "      <td>73.590000</td>\n",
       "      <td>0.7</td>\n",
       "      <td>0.70</td>\n",
       "      <td>83.2</td>\n",
       "      <td>28.428571</td>\n",
       "      <td>1</td>\n",
       "    </tr>\n",
       "    <tr>\n",
       "      <th>4</th>\n",
       "      <td>4</td>\n",
       "      <td>28.50</td>\n",
       "      <td>NaN</td>\n",
       "      <td>0.4</td>\n",
       "      <td>NaN</td>\n",
       "      <td>0.7</td>\n",
       "      <td>0.70</td>\n",
       "      <td>83.2</td>\n",
       "      <td>28.428571</td>\n",
       "      <td>1</td>\n",
       "    </tr>\n",
       "  </tbody>\n",
       "</table>\n",
       "</div>"
      ],
      "text/plain": [
       "   Unnamed: 0  Sprint_runner  Exchange_runner  Result_runner  \\\n",
       "0           0          27.94         0.723333            0.6   \n",
       "1           1          27.20         0.716000            1.0   \n",
       "2           2          27.20         0.716000            1.0   \n",
       "3           3          27.80         0.692000            1.0   \n",
       "4           4          28.50              NaN            0.4   \n",
       "\n",
       "   Arm_Strength_runner  Result_catcher  Exchange_catcher  \\\n",
       "0            79.966667             0.8              0.74   \n",
       "1            80.620000             0.7              0.75   \n",
       "2            80.620000             0.7              0.75   \n",
       "3            73.590000             0.7              0.70   \n",
       "4                  NaN             0.7              0.70   \n",
       "\n",
       "   Arm_Strength_catcher  Sprint_catcher  Result  \n",
       "0                  84.9       27.050000       0  \n",
       "1                  81.4       28.050000       1  \n",
       "2                  81.4       28.050000       1  \n",
       "3                  83.2       28.428571       1  \n",
       "4                  83.2       28.428571       1  "
      ]
     },
     "execution_count": 2,
     "metadata": {},
     "output_type": "execute_result"
    }
   ],
   "source": [
    "stolen_df = pd.read_csv('stolen_df_mean_10.csv')\n",
    "stolen_df.head()"
   ]
  },
  {
   "cell_type": "code",
   "execution_count": 3,
   "id": "60546883",
   "metadata": {},
   "outputs": [],
   "source": [
    "stolen_df.dropna(inplace=True)"
   ]
  },
  {
   "cell_type": "code",
   "execution_count": 4,
   "id": "83fd72ab",
   "metadata": {},
   "outputs": [
    {
     "data": {
      "text/plain": [
       "28063"
      ]
     },
     "execution_count": 4,
     "metadata": {},
     "output_type": "execute_result"
    }
   ],
   "source": [
    "len(stolen_df)"
   ]
  },
  {
   "cell_type": "code",
   "execution_count": 5,
   "id": "c5cc6c4c",
   "metadata": {},
   "outputs": [
    {
     "data": {
      "text/plain": [
       "array([0, 1, 1, 1, 0])"
      ]
     },
     "execution_count": 5,
     "metadata": {},
     "output_type": "execute_result"
    }
   ],
   "source": [
    "chosen = 'Result'\n",
    "\n",
    "X = stolen_df.drop(columns=[chosen, 'Unnamed: 0'])\n",
    "\n",
    "# Define the target set.\n",
    "y = stolen_df[chosen].ravel()\n",
    "y[:5]"
   ]
  },
  {
   "cell_type": "code",
   "execution_count": 6,
   "id": "3d0056fd",
   "metadata": {},
   "outputs": [],
   "source": [
    "X_train, X_test, y_train, y_test = train_test_split(X, y, random_state=78)\n",
    "\n",
    "# Create a random forest classifier.\n",
    "rf_model = RandomForestClassifier(n_estimators=500, random_state=78) \n",
    "\n",
    "\n",
    "# Fitting the model\n",
    "rf_model = rf_model.fit(X_train, y_train)\n",
    "\n",
    "# Making predictions using the testing data.\n",
    "predictions = rf_model.predict(X_test)"
   ]
  },
  {
   "cell_type": "code",
   "execution_count": 7,
   "id": "23dea5e6",
   "metadata": {},
   "outputs": [
    {
     "data": {
      "text/plain": [
       "array([[ 950,  489],\n",
       "       [  90, 5487]])"
      ]
     },
     "execution_count": 7,
     "metadata": {},
     "output_type": "execute_result"
    }
   ],
   "source": [
    "# Calculating the confusion matrix.\n",
    "cm = confusion_matrix(y_test, predictions)\n",
    "cm"
   ]
  },
  {
   "cell_type": "code",
   "execution_count": 8,
   "id": "65dd963f",
   "metadata": {},
   "outputs": [
    {
     "name": "stdout",
     "output_type": "stream",
     "text": [
      "Classification Report\n",
      "              precision    recall  f1-score   support\n",
      "\n",
      "           0       0.91      0.66      0.77      1439\n",
      "           1       0.92      0.98      0.95      5577\n",
      "\n",
      "    accuracy                           0.92      7016\n",
      "   macro avg       0.92      0.82      0.86      7016\n",
      "weighted avg       0.92      0.92      0.91      7016\n",
      "\n"
     ]
    }
   ],
   "source": [
    "# Displaying results\n",
    "print(\"Classification Report\")\n",
    "print(classification_report(y_test, predictions))"
   ]
  },
  {
   "cell_type": "code",
   "execution_count": null,
   "id": "8e67c5cd",
   "metadata": {},
   "outputs": [],
   "source": []
  }
 ],
 "metadata": {
  "kernelspec": {
   "display_name": "mykernel",
   "language": "python",
   "name": "mykernel"
  },
  "language_info": {
   "codemirror_mode": {
    "name": "ipython",
    "version": 3
   },
   "file_extension": ".py",
   "mimetype": "text/x-python",
   "name": "python",
   "nbconvert_exporter": "python",
   "pygments_lexer": "ipython3",
   "version": "3.8.13"
  }
 },
 "nbformat": 4,
 "nbformat_minor": 5
}
