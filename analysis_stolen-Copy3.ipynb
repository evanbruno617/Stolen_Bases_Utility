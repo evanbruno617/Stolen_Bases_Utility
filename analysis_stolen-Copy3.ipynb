{
 "cells": [
  {
   "cell_type": "code",
   "execution_count": 1,
   "id": "e83d2e44",
   "metadata": {},
   "outputs": [],
   "source": [
    "import pandas as pd\n",
    "import numpy as np\n",
    "# Import our dependencies\n",
    "import pandas as pd\n",
    "import matplotlib as plt\n",
    "from sklearn.datasets import make_blobs\n",
    "import sklearn as skl\n",
    "import tensorflow as tf\n",
    "from imblearn.over_sampling import RandomOverSampler\n",
    "from imblearn.combine import SMOTEENN\n",
    "from tensorflow.keras.layers import Dense, Dropout\n",
    "# Use sklearn to split dataset\n",
    "from sklearn.model_selection import train_test_split\n",
    "from sklearn.ensemble import RandomForestClassifier, RandomForestRegressor\n",
    "from sklearn.ensemble import GradientBoostingClassifier\n",
    "from sklearn.metrics import precision_score, recall_score, f1_score\n",
    "from sklearn.metrics import mean_squared_error\n",
    "from sklearn.metrics import confusion_matrix, accuracy_score, classification_report"
   ]
  },
  {
   "cell_type": "code",
   "execution_count": 2,
   "id": "1c7f22e3",
   "metadata": {},
   "outputs": [
    {
     "data": {
      "text/html": [
       "<div>\n",
       "<style scoped>\n",
       "    .dataframe tbody tr th:only-of-type {\n",
       "        vertical-align: middle;\n",
       "    }\n",
       "\n",
       "    .dataframe tbody tr th {\n",
       "        vertical-align: top;\n",
       "    }\n",
       "\n",
       "    .dataframe thead th {\n",
       "        text-align: right;\n",
       "    }\n",
       "</style>\n",
       "<table border=\"1\" class=\"dataframe\">\n",
       "  <thead>\n",
       "    <tr style=\"text-align: right;\">\n",
       "      <th></th>\n",
       "      <th>Result</th>\n",
       "      <th>Exchange</th>\n",
       "      <th>Arm_Strength</th>\n",
       "      <th>Sprint</th>\n",
       "      <th>Date</th>\n",
       "      <th>runner_id</th>\n",
       "      <th>runner_name</th>\n",
       "      <th>Result_1</th>\n",
       "      <th>Exchange_1</th>\n",
       "      <th>Arm_Strength_1</th>\n",
       "      <th>...</th>\n",
       "      <th>Arm_Strength_3</th>\n",
       "      <th>Sprint_3</th>\n",
       "      <th>Result_4</th>\n",
       "      <th>Exchange_4</th>\n",
       "      <th>Arm_Strength_4</th>\n",
       "      <th>Sprint_4</th>\n",
       "      <th>Result_5</th>\n",
       "      <th>Exchange_5</th>\n",
       "      <th>Arm_Strength_5</th>\n",
       "      <th>Sprint_5</th>\n",
       "    </tr>\n",
       "  </thead>\n",
       "  <tbody>\n",
       "    <tr>\n",
       "      <th>0</th>\n",
       "      <td>1</td>\n",
       "      <td>0.74</td>\n",
       "      <td>84.9</td>\n",
       "      <td>28.0</td>\n",
       "      <td>2021-04-01</td>\n",
       "      <td>545341</td>\n",
       "      <td>Randal Grichuk</td>\n",
       "      <td>1</td>\n",
       "      <td>0.74</td>\n",
       "      <td>84.9</td>\n",
       "      <td>...</td>\n",
       "      <td>84.9</td>\n",
       "      <td>27.0</td>\n",
       "      <td>0</td>\n",
       "      <td>0.74</td>\n",
       "      <td>84.9</td>\n",
       "      <td>27.7</td>\n",
       "      <td>0</td>\n",
       "      <td>0.74</td>\n",
       "      <td>84.9</td>\n",
       "      <td>25.0</td>\n",
       "    </tr>\n",
       "    <tr>\n",
       "      <th>1</th>\n",
       "      <td>0</td>\n",
       "      <td>0.75</td>\n",
       "      <td>81.4</td>\n",
       "      <td>27.3</td>\n",
       "      <td>2021-04-01</td>\n",
       "      <td>643565</td>\n",
       "      <td>Mike Tauchman</td>\n",
       "      <td>0</td>\n",
       "      <td>0.75</td>\n",
       "      <td>81.4</td>\n",
       "      <td>...</td>\n",
       "      <td>81.4</td>\n",
       "      <td>NaN</td>\n",
       "      <td>1</td>\n",
       "      <td>0.75</td>\n",
       "      <td>81.4</td>\n",
       "      <td>30.5</td>\n",
       "      <td>1</td>\n",
       "      <td>0.75</td>\n",
       "      <td>81.4</td>\n",
       "      <td>NaN</td>\n",
       "    </tr>\n",
       "    <tr>\n",
       "      <th>2</th>\n",
       "      <td>0</td>\n",
       "      <td>0.75</td>\n",
       "      <td>81.4</td>\n",
       "      <td>27.3</td>\n",
       "      <td>2021-04-01</td>\n",
       "      <td>643565</td>\n",
       "      <td>Mike Tauchman</td>\n",
       "      <td>0</td>\n",
       "      <td>0.75</td>\n",
       "      <td>81.4</td>\n",
       "      <td>...</td>\n",
       "      <td>81.4</td>\n",
       "      <td>NaN</td>\n",
       "      <td>1</td>\n",
       "      <td>0.75</td>\n",
       "      <td>81.4</td>\n",
       "      <td>30.5</td>\n",
       "      <td>1</td>\n",
       "      <td>0.75</td>\n",
       "      <td>81.4</td>\n",
       "      <td>NaN</td>\n",
       "    </tr>\n",
       "    <tr>\n",
       "      <th>3</th>\n",
       "      <td>0</td>\n",
       "      <td>0.73</td>\n",
       "      <td>79.0</td>\n",
       "      <td>27.9</td>\n",
       "      <td>2020-09-30</td>\n",
       "      <td>666185</td>\n",
       "      <td>Dylan Carlson</td>\n",
       "      <td>0</td>\n",
       "      <td>0.73</td>\n",
       "      <td>79.0</td>\n",
       "      <td>...</td>\n",
       "      <td>79.0</td>\n",
       "      <td>27.6</td>\n",
       "      <td>1</td>\n",
       "      <td>0.73</td>\n",
       "      <td>79.0</td>\n",
       "      <td>27.6</td>\n",
       "      <td>0</td>\n",
       "      <td>0.73</td>\n",
       "      <td>79.0</td>\n",
       "      <td>28.6</td>\n",
       "    </tr>\n",
       "    <tr>\n",
       "      <th>4</th>\n",
       "      <td>1</td>\n",
       "      <td>0.7</td>\n",
       "      <td>83.2</td>\n",
       "      <td>27.8</td>\n",
       "      <td>2020-09-30</td>\n",
       "      <td>502054</td>\n",
       "      <td>Tommy Pham</td>\n",
       "      <td>1</td>\n",
       "      <td>0.70</td>\n",
       "      <td>83.2</td>\n",
       "      <td>...</td>\n",
       "      <td>83.2</td>\n",
       "      <td>NaN</td>\n",
       "      <td>1</td>\n",
       "      <td>0.70</td>\n",
       "      <td>83.2</td>\n",
       "      <td>NaN</td>\n",
       "      <td>1</td>\n",
       "      <td>0.70</td>\n",
       "      <td>83.2</td>\n",
       "      <td>27.4</td>\n",
       "    </tr>\n",
       "  </tbody>\n",
       "</table>\n",
       "<p>5 rows × 27 columns</p>\n",
       "</div>"
      ],
      "text/plain": [
       "   Result Exchange Arm_Strength  Sprint        Date  runner_id  \\\n",
       "0       1     0.74         84.9    28.0  2021-04-01     545341   \n",
       "1       0     0.75         81.4    27.3  2021-04-01     643565   \n",
       "2       0     0.75         81.4    27.3  2021-04-01     643565   \n",
       "3       0     0.73         79.0    27.9  2020-09-30     666185   \n",
       "4       1      0.7         83.2    27.8  2020-09-30     502054   \n",
       "\n",
       "      runner_name  Result_1  Exchange_1  Arm_Strength_1  ...  Arm_Strength_3  \\\n",
       "0  Randal Grichuk         1        0.74            84.9  ...            84.9   \n",
       "1   Mike Tauchman         0        0.75            81.4  ...            81.4   \n",
       "2   Mike Tauchman         0        0.75            81.4  ...            81.4   \n",
       "3   Dylan Carlson         0        0.73            79.0  ...            79.0   \n",
       "4      Tommy Pham         1        0.70            83.2  ...            83.2   \n",
       "\n",
       "   Sprint_3  Result_4  Exchange_4  Arm_Strength_4  Sprint_4  Result_5  \\\n",
       "0      27.0         0        0.74            84.9      27.7         0   \n",
       "1       NaN         1        0.75            81.4      30.5         1   \n",
       "2       NaN         1        0.75            81.4      30.5         1   \n",
       "3      27.6         1        0.73            79.0      27.6         0   \n",
       "4       NaN         1        0.70            83.2       NaN         1   \n",
       "\n",
       "   Exchange_5  Arm_Strength_5  Sprint_5  \n",
       "0        0.74            84.9      25.0  \n",
       "1        0.75            81.4       NaN  \n",
       "2        0.75            81.4       NaN  \n",
       "3        0.73            79.0      28.6  \n",
       "4        0.70            83.2      27.4  \n",
       "\n",
       "[5 rows x 27 columns]"
      ]
     },
     "execution_count": 2,
     "metadata": {},
     "output_type": "execute_result"
    }
   ],
   "source": [
    "stolen_df = pd.read_csv('stolen_df_2.csv')\n",
    "stolen_df.head()"
   ]
  },
  {
   "cell_type": "code",
   "execution_count": 3,
   "id": "240a447b",
   "metadata": {},
   "outputs": [
    {
     "data": {
      "text/plain": [
       "Index(['Result', 'Exchange', 'Arm_Strength', 'Sprint', 'Date', 'runner_id',\n",
       "       'runner_name', 'Result_1', 'Exchange_1', 'Arm_Strength_1', 'Sprint_1',\n",
       "       'Result_2', 'Exchange_2', 'Arm_Strength_2', 'Sprint_2', 'Result_3',\n",
       "       'Exchange_3', 'Arm_Strength_3', 'Sprint_3', 'Result_4', 'Exchange_4',\n",
       "       'Arm_Strength_4', 'Sprint_4', 'Result_5', 'Exchange_5',\n",
       "       'Arm_Strength_5', 'Sprint_5'],\n",
       "      dtype='object')"
      ]
     },
     "execution_count": 3,
     "metadata": {},
     "output_type": "execute_result"
    }
   ],
   "source": [
    "stolen_df.columns"
   ]
  },
  {
   "cell_type": "code",
   "execution_count": 4,
   "id": "60546883",
   "metadata": {},
   "outputs": [],
   "source": [
    "stolen_df.dropna(inplace=True)"
   ]
  },
  {
   "cell_type": "code",
   "execution_count": 5,
   "id": "83fd72ab",
   "metadata": {},
   "outputs": [
    {
     "data": {
      "text/plain": [
       "12768"
      ]
     },
     "execution_count": 5,
     "metadata": {},
     "output_type": "execute_result"
    }
   ],
   "source": [
    "len(stolen_df)"
   ]
  },
  {
   "cell_type": "code",
   "execution_count": 28,
   "id": "04f9d0ac",
   "metadata": {},
   "outputs": [],
   "source": [
    "stolen_df.replace(' --', 0, inplace=True)\n",
    "test_df = stolen_df.loc[stolen_df['Date'] < '2022-09-30']\n",
    "validate_df = stolen_df.loc[stolen_df['Date'] > '2022-09-30']"
   ]
  },
  {
   "cell_type": "code",
   "execution_count": 52,
   "id": "c5cc6c4c",
   "metadata": {},
   "outputs": [
    {
     "data": {
      "text/plain": [
       "array([1, 0, 1, 1, 1])"
      ]
     },
     "execution_count": 52,
     "metadata": {},
     "output_type": "execute_result"
    }
   ],
   "source": [
    "\n",
    "\n",
    "chosen = 'Result'\n",
    "\n",
    "X = test_df.drop(columns=[chosen, 'Date', 'runner_id', 'runner_name'])\n",
    "\n",
    "# Define the target set.\n",
    "y = test_df[chosen].ravel()\n",
    "y[:5]"
   ]
  },
  {
   "cell_type": "code",
   "execution_count": 53,
   "id": "3d0056fd",
   "metadata": {},
   "outputs": [],
   "source": [
    "\n",
    "# Import our dependencies\n",
    "import pandas as pd\n",
    "import matplotlib as plt\n",
    "from sklearn.datasets import make_blobs\n",
    "import sklearn as skl\n",
    "import tensorflow as tf\n",
    "from imblearn.over_sampling import RandomOverSampler\n",
    "from imblearn.combine import SMOTEENN\n",
    "from tensorflow.keras.layers import Dense, Dropout"
   ]
  },
  {
   "cell_type": "code",
   "execution_count": 54,
   "id": "fb925249",
   "metadata": {},
   "outputs": [
    {
     "name": "stdout",
     "output_type": "stream",
     "text": [
      "Model: \"sequential_4\"\n",
      "_________________________________________________________________\n",
      " Layer (type)                Output Shape              Param #   \n",
      "=================================================================\n",
      " dense_20 (Dense)            (None, 70)                1680      \n",
      "                                                                 \n",
      " dense_21 (Dense)            (None, 60)                4260      \n",
      "                                                                 \n",
      " dense_22 (Dense)            (None, 60)                3660      \n",
      "                                                                 \n",
      " dense_23 (Dense)            (None, 60)                3660      \n",
      "                                                                 \n",
      " dense_24 (Dense)            (None, 1)                 61        \n",
      "                                                                 \n",
      "=================================================================\n",
      "Total params: 13,321\n",
      "Trainable params: 13,321\n",
      "Non-trainable params: 0\n",
      "_________________________________________________________________\n"
     ]
    }
   ],
   "source": [
    "# Use sklearn to split dataset\n",
    "from sklearn.model_selection import train_test_split\n",
    "X_train, X_test, y_train, y_test = train_test_split(X, y, random_state=78)\n",
    "\n",
    "# Create scaler instance\n",
    "X_scaler = skl.preprocessing.StandardScaler()\n",
    "\n",
    "ran = RandomOverSampler(random_state=0)\n",
    "X_train, y_train = ran.fit_resample(X_train, y_train)\n",
    "\n",
    "\n",
    "# Fit the scaler\n",
    "X_scaler.fit(X_train)\n",
    "\n",
    "# Scale the data\n",
    "X_train_scaled = X_scaler.transform(X_train)\n",
    "X_test_scaled = X_scaler.transform(X_test)\n",
    "\n",
    "# Create the Keras Sequential model\n",
    "nn_model = tf.keras.models.Sequential()\n",
    "\n",
    "# Add our first Dense layer, including the input layer\n",
    "nn_model.add(tf.keras.layers.Dense(units=70, activation=\"tanh\", input_dim=23))\n",
    "\n",
    "# Add our first Dense layer, including the input layer\n",
    "nn_model.add(tf.keras.layers.Dense(units=60, activation=\"tanh\"))\n",
    "\n",
    "# Add our first Dense layer, including the input layer\n",
    "nn_model.add(tf.keras.layers.Dense(units=60, activation=\"tanh\"))\n",
    "\n",
    "# Add our first Dense layer, including the input layer\n",
    "nn_model.add(tf.keras.layers.Dense(units=60, activation=\"tanh\"))\n",
    "\n",
    "\n",
    "\n",
    "# Add the output layer that uses a probability activation function\n",
    "nn_model.add(tf.keras.layers.Dense(units=1, activation=\"sigmoid\"))\n",
    "\n",
    "# Check the structure of the Sequential model\n",
    "nn_model.summary()"
   ]
  },
  {
   "cell_type": "code",
   "execution_count": 55,
   "id": "26aefca9",
   "metadata": {},
   "outputs": [],
   "source": [
    "# Define precision metric outside the function\n",
    "precision_metric = tf.keras.metrics.Precision()\n",
    "\n",
    "# Custom metric function using the predefined precision_metric object\n",
    "def custom_precision_metric(y_true, y_pred):\n",
    "    precision_metric.update_state(y_true, y_pred)\n",
    "    return precision_metric.result()\n",
    "\n",
    "# Compile the model with the custom precision metric\n",
    "nn_model.compile(\n",
    "    loss=\"binary_crossentropy\",\n",
    "    optimizer=\"adam\",\n",
    "    metrics='accuracy'\n",
    ")"
   ]
  },
  {
   "cell_type": "code",
   "execution_count": 56,
   "id": "23dea5e6",
   "metadata": {},
   "outputs": [
    {
     "name": "stdout",
     "output_type": "stream",
     "text": [
      "Epoch 1/150\n"
     ]
    },
    {
     "name": "stderr",
     "output_type": "stream",
     "text": [
      "2025-01-17 17:53:09.420555: I tensorflow/core/grappler/optimizers/custom_graph_optimizer_registry.cc:113] Plugin optimizer for device_type GPU is enabled.\n"
     ]
    },
    {
     "name": "stdout",
     "output_type": "stream",
     "text": [
      "384/384 [==============================] - 5s 12ms/step - loss: 0.4357 - accuracy: 0.8064\n",
      "Epoch 2/150\n",
      "384/384 [==============================] - 5s 12ms/step - loss: 0.3782 - accuracy: 0.8371\n",
      "Epoch 3/150\n",
      "384/384 [==============================] - 5s 12ms/step - loss: 0.3347 - accuracy: 0.8585\n",
      "Epoch 4/150\n",
      "384/384 [==============================] - 4s 12ms/step - loss: 0.2976 - accuracy: 0.8775\n",
      "Epoch 5/150\n",
      "384/384 [==============================] - 4s 11ms/step - loss: 0.2647 - accuracy: 0.8949\n",
      "Epoch 6/150\n",
      "384/384 [==============================] - 4s 12ms/step - loss: 0.2310 - accuracy: 0.9080\n",
      "Epoch 7/150\n",
      "384/384 [==============================] - 4s 12ms/step - loss: 0.2018 - accuracy: 0.9212\n",
      "Epoch 8/150\n",
      "384/384 [==============================] - 4s 12ms/step - loss: 0.1689 - accuracy: 0.9379\n",
      "Epoch 9/150\n",
      "384/384 [==============================] - 4s 12ms/step - loss: 0.1392 - accuracy: 0.9522\n",
      "Epoch 10/150\n",
      "384/384 [==============================] - 4s 12ms/step - loss: 0.1218 - accuracy: 0.9577\n",
      "Epoch 11/150\n",
      "384/384 [==============================] - 4s 12ms/step - loss: 0.0951 - accuracy: 0.9689\n",
      "Epoch 12/150\n",
      "384/384 [==============================] - 4s 12ms/step - loss: 0.0802 - accuracy: 0.9740\n",
      "Epoch 13/150\n",
      "384/384 [==============================] - 4s 12ms/step - loss: 0.0641 - accuracy: 0.9804\n",
      "Epoch 14/150\n",
      "384/384 [==============================] - 4s 12ms/step - loss: 0.0479 - accuracy: 0.9863\n",
      "Epoch 15/150\n",
      "384/384 [==============================] - 5s 12ms/step - loss: 0.0405 - accuracy: 0.9886\n",
      "Epoch 16/150\n",
      "384/384 [==============================] - 4s 11ms/step - loss: 0.0432 - accuracy: 0.9867\n",
      "Epoch 17/150\n",
      "384/384 [==============================] - 4s 12ms/step - loss: 0.0314 - accuracy: 0.9921\n",
      "Epoch 18/150\n",
      "384/384 [==============================] - 4s 12ms/step - loss: 0.0258 - accuracy: 0.9925\n",
      "Epoch 19/150\n",
      "384/384 [==============================] - 5s 12ms/step - loss: 0.0192 - accuracy: 0.9954\n",
      "Epoch 20/150\n",
      "384/384 [==============================] - 5s 12ms/step - loss: 0.0346 - accuracy: 0.9883\n",
      "Epoch 21/150\n",
      "384/384 [==============================] - 4s 12ms/step - loss: 0.0109 - accuracy: 0.9976\n",
      "Epoch 22/150\n",
      "384/384 [==============================] - 5s 12ms/step - loss: 0.0189 - accuracy: 0.9945\n",
      "Epoch 23/150\n",
      "384/384 [==============================] - 4s 11ms/step - loss: 0.0181 - accuracy: 0.9942\n",
      "Epoch 24/150\n",
      "384/384 [==============================] - 4s 12ms/step - loss: 0.0083 - accuracy: 0.9978\n",
      "Epoch 25/150\n",
      "384/384 [==============================] - 4s 12ms/step - loss: 0.0271 - accuracy: 0.9907\n",
      "Epoch 26/150\n",
      "384/384 [==============================] - 4s 12ms/step - loss: 0.0054 - accuracy: 0.9989\n",
      "Epoch 27/150\n",
      "384/384 [==============================] - 4s 12ms/step - loss: 0.0195 - accuracy: 0.9934\n",
      "Epoch 28/150\n",
      "384/384 [==============================] - 5s 12ms/step - loss: 0.0055 - accuracy: 0.9987\n",
      "Epoch 29/150\n",
      "384/384 [==============================] - 5s 12ms/step - loss: 0.0018 - accuracy: 0.9998\n",
      "Epoch 30/150\n",
      "384/384 [==============================] - 5s 12ms/step - loss: 0.0029 - accuracy: 0.9995\n",
      "Epoch 31/150\n",
      "384/384 [==============================] - 4s 12ms/step - loss: 0.0010 - accuracy: 0.9999\n",
      "Epoch 32/150\n",
      "384/384 [==============================] - 4s 12ms/step - loss: 0.0014 - accuracy: 0.9998\n",
      "Epoch 33/150\n",
      "384/384 [==============================] - 4s 12ms/step - loss: 0.0424 - accuracy: 0.9878\n",
      "Epoch 34/150\n",
      "384/384 [==============================] - 4s 12ms/step - loss: 0.0307 - accuracy: 0.9910\n",
      "Epoch 35/150\n",
      "384/384 [==============================] - 5s 12ms/step - loss: 0.0050 - accuracy: 0.9986\n",
      "Epoch 36/150\n",
      "384/384 [==============================] - 4s 12ms/step - loss: 0.0015 - accuracy: 1.0000\n",
      "Epoch 37/150\n",
      "384/384 [==============================] - 4s 12ms/step - loss: 8.8046e-04 - accuracy: 1.0000\n",
      "Epoch 38/150\n",
      "384/384 [==============================] - 4s 12ms/step - loss: 6.4920e-04 - accuracy: 1.0000\n",
      "Epoch 39/150\n",
      "384/384 [==============================] - 4s 12ms/step - loss: 5.1388e-04 - accuracy: 1.0000\n",
      "Epoch 40/150\n",
      "384/384 [==============================] - 5s 12ms/step - loss: 4.0743e-04 - accuracy: 1.0000\n",
      "Epoch 41/150\n",
      "384/384 [==============================] - 4s 12ms/step - loss: 3.3069e-04 - accuracy: 1.0000\n",
      "Epoch 42/150\n",
      "384/384 [==============================] - 5s 12ms/step - loss: 2.7101e-04 - accuracy: 1.0000\n",
      "Epoch 43/150\n",
      "384/384 [==============================] - 5s 12ms/step - loss: 2.1925e-04 - accuracy: 1.0000\n",
      "Epoch 44/150\n",
      "384/384 [==============================] - 5s 12ms/step - loss: 1.8064e-04 - accuracy: 1.0000\n",
      "Epoch 45/150\n",
      "384/384 [==============================] - 4s 12ms/step - loss: 1.4847e-04 - accuracy: 1.0000\n",
      "Epoch 46/150\n",
      "384/384 [==============================] - 4s 12ms/step - loss: 1.1897e-04 - accuracy: 1.0000\n",
      "Epoch 47/150\n",
      "384/384 [==============================] - 4s 12ms/step - loss: 9.5562e-05 - accuracy: 1.0000\n",
      "Epoch 48/150\n",
      "384/384 [==============================] - 5s 12ms/step - loss: 7.6695e-05 - accuracy: 1.0000\n",
      "Epoch 49/150\n",
      "384/384 [==============================] - 5s 12ms/step - loss: 6.1967e-05 - accuracy: 1.0000\n",
      "Epoch 50/150\n",
      "384/384 [==============================] - 5s 12ms/step - loss: 5.1707e-05 - accuracy: 1.0000\n",
      "Epoch 51/150\n",
      "384/384 [==============================] - 5s 12ms/step - loss: 4.1963e-05 - accuracy: 1.0000\n",
      "Epoch 52/150\n",
      "384/384 [==============================] - 5s 12ms/step - loss: 3.3235e-05 - accuracy: 1.0000\n",
      "Epoch 53/150\n",
      "384/384 [==============================] - 4s 12ms/step - loss: 0.1271 - accuracy: 0.9699\n",
      "Epoch 54/150\n",
      "384/384 [==============================] - 5s 12ms/step - loss: 0.0057 - accuracy: 0.9989\n",
      "Epoch 55/150\n",
      "384/384 [==============================] - 4s 11ms/step - loss: 0.0015 - accuracy: 1.0000\n",
      "Epoch 56/150\n",
      "384/384 [==============================] - 4s 12ms/step - loss: 9.4615e-04 - accuracy: 1.0000\n",
      "Epoch 57/150\n",
      "384/384 [==============================] - 4s 12ms/step - loss: 7.2090e-04 - accuracy: 1.0000\n",
      "Epoch 58/150\n",
      "384/384 [==============================] - 4s 12ms/step - loss: 5.4542e-04 - accuracy: 1.0000\n",
      "Epoch 59/150\n",
      "384/384 [==============================] - 5s 12ms/step - loss: 4.3045e-04 - accuracy: 1.0000\n",
      "Epoch 60/150\n",
      "384/384 [==============================] - 5s 12ms/step - loss: 3.4259e-04 - accuracy: 1.0000\n",
      "Epoch 61/150\n",
      "384/384 [==============================] - 4s 12ms/step - loss: 2.7620e-04 - accuracy: 1.0000\n",
      "Epoch 62/150\n",
      "384/384 [==============================] - 4s 12ms/step - loss: 2.2215e-04 - accuracy: 1.0000\n",
      "Epoch 63/150\n",
      "384/384 [==============================] - 4s 12ms/step - loss: 1.7920e-04 - accuracy: 1.0000\n",
      "Epoch 64/150\n",
      "384/384 [==============================] - 4s 12ms/step - loss: 1.4820e-04 - accuracy: 1.0000\n",
      "Epoch 65/150\n",
      "384/384 [==============================] - 5s 12ms/step - loss: 1.1973e-04 - accuracy: 1.0000\n",
      "Epoch 66/150\n",
      "384/384 [==============================] - 4s 12ms/step - loss: 9.8893e-05 - accuracy: 1.0000\n",
      "Epoch 67/150\n",
      "384/384 [==============================] - 5s 12ms/step - loss: 8.0727e-05 - accuracy: 1.0000\n",
      "Epoch 68/150\n",
      "384/384 [==============================] - 4s 11ms/step - loss: 6.6122e-05 - accuracy: 1.0000\n",
      "Epoch 69/150\n",
      "384/384 [==============================] - 4s 12ms/step - loss: 5.3797e-05 - accuracy: 1.0000\n",
      "Epoch 70/150\n",
      "384/384 [==============================] - 4s 12ms/step - loss: 4.4593e-05 - accuracy: 1.0000\n",
      "Epoch 71/150\n",
      "384/384 [==============================] - 4s 12ms/step - loss: 3.6031e-05 - accuracy: 1.0000\n",
      "Epoch 72/150\n",
      "384/384 [==============================] - 4s 12ms/step - loss: 2.9237e-05 - accuracy: 1.0000\n",
      "Epoch 73/150\n",
      "384/384 [==============================] - 5s 12ms/step - loss: 2.3904e-05 - accuracy: 1.0000\n",
      "Epoch 74/150\n",
      "384/384 [==============================] - 5s 12ms/step - loss: 1.9662e-05 - accuracy: 1.0000\n",
      "Epoch 75/150\n",
      "384/384 [==============================] - 4s 12ms/step - loss: 1.5759e-05 - accuracy: 1.0000\n",
      "Epoch 76/150\n",
      "384/384 [==============================] - 4s 12ms/step - loss: 1.2741e-05 - accuracy: 1.0000\n",
      "Epoch 77/150\n",
      "384/384 [==============================] - 5s 12ms/step - loss: 1.0773e-05 - accuracy: 1.0000\n",
      "Epoch 78/150\n",
      "384/384 [==============================] - 4s 12ms/step - loss: 8.6016e-06 - accuracy: 1.0000\n",
      "Epoch 79/150\n"
     ]
    },
    {
     "name": "stdout",
     "output_type": "stream",
     "text": [
      "384/384 [==============================] - 4s 11ms/step - loss: 6.8414e-06 - accuracy: 1.0000\n",
      "Epoch 80/150\n",
      "384/384 [==============================] - 4s 12ms/step - loss: 5.5225e-06 - accuracy: 1.0000\n",
      "Epoch 81/150\n",
      "384/384 [==============================] - 5s 12ms/step - loss: 4.4845e-06 - accuracy: 1.0000\n",
      "Epoch 82/150\n",
      "384/384 [==============================] - 5s 12ms/step - loss: 3.6113e-06 - accuracy: 1.0000\n",
      "Epoch 83/150\n",
      "384/384 [==============================] - 5s 12ms/step - loss: 2.9345e-06 - accuracy: 1.0000\n",
      "Epoch 84/150\n",
      "384/384 [==============================] - 5s 12ms/step - loss: 2.3942e-06 - accuracy: 1.0000\n",
      "Epoch 85/150\n",
      "384/384 [==============================] - 4s 12ms/step - loss: 1.9274e-06 - accuracy: 1.0000\n",
      "Epoch 86/150\n",
      "384/384 [==============================] - 4s 12ms/step - loss: 2.0178e-06 - accuracy: 1.0000\n",
      "Epoch 87/150\n",
      "384/384 [==============================] - 4s 12ms/step - loss: 0.0954 - accuracy: 0.9791\n",
      "Epoch 88/150\n",
      "384/384 [==============================] - 4s 12ms/step - loss: 0.0037 - accuracy: 0.9992\n",
      "Epoch 89/150\n",
      "384/384 [==============================] - 4s 10ms/step - loss: 5.4336e-04 - accuracy: 1.0000\n",
      "Epoch 90/150\n",
      "384/384 [==============================] - 4s 12ms/step - loss: 3.4301e-04 - accuracy: 1.0000\n",
      "Epoch 91/150\n",
      "384/384 [==============================] - 4s 12ms/step - loss: 2.5810e-04 - accuracy: 1.0000\n",
      "Epoch 92/150\n",
      "384/384 [==============================] - 4s 11ms/step - loss: 2.0156e-04 - accuracy: 1.0000\n",
      "Epoch 93/150\n",
      "384/384 [==============================] - 5s 12ms/step - loss: 1.6197e-04 - accuracy: 1.0000\n",
      "Epoch 94/150\n",
      "384/384 [==============================] - 4s 12ms/step - loss: 1.3396e-04 - accuracy: 1.0000\n",
      "Epoch 95/150\n",
      "384/384 [==============================] - 4s 11ms/step - loss: 1.0898e-04 - accuracy: 1.0000\n",
      "Epoch 96/150\n",
      "384/384 [==============================] - 4s 11ms/step - loss: 8.9909e-05 - accuracy: 1.0000\n",
      "Epoch 97/150\n",
      "384/384 [==============================] - 4s 11ms/step - loss: 7.4564e-05 - accuracy: 1.0000\n",
      "Epoch 98/150\n",
      "384/384 [==============================] - 4s 12ms/step - loss: 6.2095e-05 - accuracy: 1.0000\n",
      "Epoch 99/150\n",
      "384/384 [==============================] - 4s 11ms/step - loss: 5.1680e-05 - accuracy: 1.0000\n",
      "Epoch 100/150\n",
      "384/384 [==============================] - 4s 11ms/step - loss: 4.3143e-05 - accuracy: 1.0000\n",
      "Epoch 101/150\n",
      "384/384 [==============================] - 4s 11ms/step - loss: 3.6138e-05 - accuracy: 1.0000\n",
      "Epoch 102/150\n",
      "384/384 [==============================] - 4s 11ms/step - loss: 2.9972e-05 - accuracy: 1.0000\n",
      "Epoch 103/150\n",
      "384/384 [==============================] - 4s 11ms/step - loss: 2.5079e-05 - accuracy: 1.0000\n",
      "Epoch 104/150\n",
      "384/384 [==============================] - 4s 11ms/step - loss: 2.0919e-05 - accuracy: 1.0000\n",
      "Epoch 105/150\n",
      "384/384 [==============================] - 4s 12ms/step - loss: 1.7507e-05 - accuracy: 1.0000\n",
      "Epoch 106/150\n",
      "384/384 [==============================] - 4s 12ms/step - loss: 1.4562e-05 - accuracy: 1.0000\n",
      "Epoch 107/150\n",
      "384/384 [==============================] - 4s 11ms/step - loss: 1.2149e-05 - accuracy: 1.0000\n",
      "Epoch 108/150\n",
      "384/384 [==============================] - 4s 11ms/step - loss: 1.0118e-05 - accuracy: 1.0000\n",
      "Epoch 109/150\n",
      "384/384 [==============================] - 4s 11ms/step - loss: 8.4528e-06 - accuracy: 1.0000\n",
      "Epoch 110/150\n",
      "384/384 [==============================] - 4s 11ms/step - loss: 6.9613e-06 - accuracy: 1.0000\n",
      "Epoch 111/150\n",
      "384/384 [==============================] - 4s 11ms/step - loss: 5.8602e-06 - accuracy: 1.0000\n",
      "Epoch 112/150\n",
      "384/384 [==============================] - 4s 11ms/step - loss: 4.8584e-06 - accuracy: 1.0000\n",
      "Epoch 113/150\n",
      "384/384 [==============================] - 4s 11ms/step - loss: 4.0074e-06 - accuracy: 1.0000\n",
      "Epoch 114/150\n",
      "384/384 [==============================] - 4s 11ms/step - loss: 3.3506e-06 - accuracy: 1.0000\n",
      "Epoch 115/150\n",
      "384/384 [==============================] - 4s 12ms/step - loss: 2.7675e-06 - accuracy: 1.0000\n",
      "Epoch 116/150\n",
      "384/384 [==============================] - 4s 12ms/step - loss: 2.2683e-06 - accuracy: 1.0000\n",
      "Epoch 117/150\n",
      "384/384 [==============================] - 4s 12ms/step - loss: 1.8781e-06 - accuracy: 1.0000\n",
      "Epoch 118/150\n",
      "384/384 [==============================] - 4s 12ms/step - loss: 1.5437e-06 - accuracy: 1.0000\n",
      "Epoch 119/150\n",
      "384/384 [==============================] - 4s 12ms/step - loss: 1.2816e-06 - accuracy: 1.0000\n",
      "Epoch 120/150\n",
      "384/384 [==============================] - 4s 12ms/step - loss: 1.0504e-06 - accuracy: 1.0000\n",
      "Epoch 121/150\n",
      "384/384 [==============================] - 5s 12ms/step - loss: 8.6198e-07 - accuracy: 1.0000\n",
      "Epoch 122/150\n",
      "384/384 [==============================] - 4s 11ms/step - loss: 7.1052e-07 - accuracy: 1.0000\n",
      "Epoch 123/150\n",
      "384/384 [==============================] - 4s 11ms/step - loss: 5.7975e-07 - accuracy: 1.0000\n",
      "Epoch 124/150\n",
      "384/384 [==============================] - 4s 12ms/step - loss: 4.8052e-07 - accuracy: 1.0000\n",
      "Epoch 125/150\n",
      "384/384 [==============================] - 5s 12ms/step - loss: 3.9017e-07 - accuracy: 1.0000\n",
      "Epoch 126/150\n",
      "384/384 [==============================] - 4s 11ms/step - loss: 3.1929e-07 - accuracy: 1.0000\n",
      "Epoch 127/150\n",
      "384/384 [==============================] - 4s 12ms/step - loss: 2.6319e-07 - accuracy: 1.0000\n",
      "Epoch 128/150\n",
      "384/384 [==============================] - 4s 12ms/step - loss: 2.1406e-07 - accuracy: 1.0000\n",
      "Epoch 129/150\n",
      "384/384 [==============================] - 4s 11ms/step - loss: 1.7484e-07 - accuracy: 1.0000\n",
      "Epoch 130/150\n",
      "384/384 [==============================] - 4s 11ms/step - loss: 1.4415e-07 - accuracy: 1.0000\n",
      "Epoch 131/150\n",
      "384/384 [==============================] - 4s 12ms/step - loss: 1.1714e-07 - accuracy: 1.0000\n",
      "Epoch 132/150\n",
      "384/384 [==============================] - 4s 12ms/step - loss: 9.5913e-08 - accuracy: 1.0000\n",
      "Epoch 133/150\n",
      "384/384 [==============================] - 4s 12ms/step - loss: 7.7797e-08 - accuracy: 1.0000\n",
      "Epoch 134/150\n",
      "384/384 [==============================] - 4s 12ms/step - loss: 6.4107e-08 - accuracy: 1.0000\n",
      "Epoch 135/150\n",
      "384/384 [==============================] - 4s 11ms/step - loss: 5.2784e-08 - accuracy: 1.0000\n",
      "Epoch 136/150\n",
      "384/384 [==============================] - 4s 11ms/step - loss: 4.2935e-08 - accuracy: 1.0000\n",
      "Epoch 137/150\n",
      "384/384 [==============================] - 5s 12ms/step - loss: 3.5018e-08 - accuracy: 1.0000\n",
      "Epoch 138/150\n",
      "384/384 [==============================] - 4s 11ms/step - loss: 2.8294e-08 - accuracy: 1.0000\n",
      "Epoch 139/150\n",
      "384/384 [==============================] - 4s 12ms/step - loss: 2.2967e-08 - accuracy: 1.0000\n",
      "Epoch 140/150\n",
      "384/384 [==============================] - 4s 11ms/step - loss: 1.8746e-08 - accuracy: 1.0000\n",
      "Epoch 141/150\n",
      "384/384 [==============================] - 4s 12ms/step - loss: 1.4467e-08 - accuracy: 1.0000\n",
      "Epoch 142/150\n",
      "384/384 [==============================] - 4s 11ms/step - loss: 1.1896e-08 - accuracy: 1.0000\n",
      "Epoch 143/150\n",
      "384/384 [==============================] - 5s 12ms/step - loss: 9.2662e-09 - accuracy: 1.0000\n",
      "Epoch 144/150\n",
      "384/384 [==============================] - 5s 12ms/step - loss: 7.5585e-09 - accuracy: 1.0000\n",
      "Epoch 145/150\n",
      "384/384 [==============================] - 5s 12ms/step - loss: 6.2389e-09 - accuracy: 1.0000\n",
      "Epoch 146/150\n",
      "384/384 [==============================] - 4s 11ms/step - loss: 4.9193e-09 - accuracy: 1.0000\n",
      "Epoch 147/150\n",
      "384/384 [==============================] - 4s 11ms/step - loss: 4.0752e-09 - accuracy: 1.0000\n",
      "Epoch 148/150\n",
      "384/384 [==============================] - 4s 11ms/step - loss: 3.1534e-09 - accuracy: 1.0000\n",
      "Epoch 149/150\n",
      "384/384 [==============================] - 4s 12ms/step - loss: 2.4548e-09 - accuracy: 1.0000\n",
      "Epoch 150/150\n",
      "384/384 [==============================] - 4s 12ms/step - loss: 2.0764e-09 - accuracy: 1.0000\n"
     ]
    }
   ],
   "source": [
    "# Fit the model to the training data\n",
    "fit_model = nn_model.fit(X_train_scaled, y_train, epochs=150, shuffle=True)"
   ]
  },
  {
   "cell_type": "code",
   "execution_count": 57,
   "id": "65dd963f",
   "metadata": {},
   "outputs": [
    {
     "data": {
      "text/plain": [
       "<AxesSubplot:>"
      ]
     },
     "execution_count": 57,
     "metadata": {},
     "output_type": "execute_result"
    },
    {
     "data": {
      "image/png": "[encoded data removed]",
      "text/plain": [
       "<Figure size 640x480 with 1 Axes>"
      ]
     },
     "metadata": {},
     "output_type": "display_data"
    }
   ],
   "source": [
    "# Create a DataFrame containing training history\n",
    "history_df = pd.DataFrame(fit_model.history, index=range(1,len(fit_model.history[\"loss\"])+1))\n",
    "\n",
    "history_df.plot(y=\"loss\")"
   ]
  },
  {
   "cell_type": "code",
   "execution_count": 58,
   "id": "b047955f",
   "metadata": {},
   "outputs": [
    {
     "data": {
      "text/plain": [
       "<AxesSubplot:>"
      ]
     },
     "execution_count": 58,
     "metadata": {},
     "output_type": "execute_result"
    },
    {
     "data": {
      "image/png": "[encoded data removed]",
      "text/plain": [
       "<Figure size 640x480 with 1 Axes>"
      ]
     },
     "metadata": {},
     "output_type": "display_data"
    }
   ],
   "source": [
    "# Plot the accuracy\n",
    "history_df.plot(y=\"accuracy\")"
   ]
  },
  {
   "cell_type": "code",
   "execution_count": 59,
   "id": "6f00eadc",
   "metadata": {},
   "outputs": [
    {
     "name": "stderr",
     "output_type": "stream",
     "text": [
      "2025-01-17 18:04:19.348227: I tensorflow/core/grappler/optimizers/custom_graph_optimizer_registry.cc:113] Plugin optimizer for device_type GPU is enabled.\n"
     ]
    },
    {
     "name": "stdout",
     "output_type": "stream",
     "text": [
      "84/84 - 1s - loss: 0.2879 - accuracy: 0.9828 - 837ms/epoch - 10ms/step\n",
      "Loss: 0.2878663241863251, Accuracy: 0.9828358292579651\n"
     ]
    }
   ],
   "source": [
    "\n",
    "model_loss, model_accuracy = nn_model.evaluate(X_test_scaled,y_test,verbose=2)\n",
    "print(f\"Loss: {model_loss}, Accuracy: {model_accuracy}\")"
   ]
  },
  {
   "cell_type": "code",
   "execution_count": 60,
   "id": "a6947d15",
   "metadata": {},
   "outputs": [
    {
     "data": {
      "text/plain": [
       "array([1, 1, 1, 1, 1])"
      ]
     },
     "execution_count": 60,
     "metadata": {},
     "output_type": "execute_result"
    }
   ],
   "source": [
    "chosen = 'Result'\n",
    "\n",
    "X = validate_df.drop(columns=[chosen, 'Date', 'runner_id', 'runner_name'])\n",
    "\n",
    "# Define the target set.\n",
    "y = validate_df[chosen].ravel()\n",
    "y[:5]"
   ]
  },
  {
   "cell_type": "code",
   "execution_count": 61,
   "id": "d2d97d37",
   "metadata": {},
   "outputs": [
    {
     "name": "stdout",
     "output_type": "stream",
     "text": [
      "29/65 [============>.................] - ETA: 0s"
     ]
    },
    {
     "name": "stderr",
     "output_type": "stream",
     "text": [
      "2025-01-17 18:04:20.143160: I tensorflow/core/grappler/optimizers/custom_graph_optimizer_registry.cc:113] Plugin optimizer for device_type GPU is enabled.\n"
     ]
    },
    {
     "name": "stdout",
     "output_type": "stream",
     "text": [
      "65/65 [==============================] - 0s 4ms/step\n"
     ]
    }
   ],
   "source": [
    "X_scaled = X_scaler.transform(X)\n",
    "\n",
    "predictions = nn_model.predict(X_scaled)\n",
    "\n",
    "results = np.round(predictions).astype(int).tolist()"
   ]
  },
  {
   "cell_type": "code",
   "execution_count": 66,
   "id": "e532eec1",
   "metadata": {},
   "outputs": [
    {
     "data": {
      "text/plain": [
       "array([[1.0000000e+00],\n",
       "       [1.0000000e+00],\n",
       "       [1.0000000e+00],\n",
       "       ...,\n",
       "       [9.9089909e-01],\n",
       "       [4.2533683e-09],\n",
       "       [1.0000000e+00]], dtype=float32)"
      ]
     },
     "execution_count": 66,
     "metadata": {},
     "output_type": "execute_result"
    }
   ],
   "source": [
    "predictions"
   ]
  },
  {
   "cell_type": "code",
   "execution_count": 62,
   "id": "d3f10482",
   "metadata": {},
   "outputs": [
    {
     "name": "stdout",
     "output_type": "stream",
     "text": [
      "              precision    recall  f1-score   support\n",
      "\n",
      "           0       0.46      0.48      0.47       370\n",
      "           1       0.88      0.88      0.88      1681\n",
      "\n",
      "    accuracy                           0.80      2051\n",
      "   macro avg       0.67      0.68      0.67      2051\n",
      "weighted avg       0.81      0.80      0.81      2051\n",
      "\n"
     ]
    }
   ],
   "source": [
    "\n",
    "print(classification_report(y, results))"
   ]
  },
  {
   "cell_type": "code",
   "execution_count": 63,
   "id": "6db2187f",
   "metadata": {},
   "outputs": [
    {
     "name": "stdout",
     "output_type": "stream",
     "text": [
      "INFO:tensorflow:Assets written to: ram://726d34bd-8698-43af-9aa9-092524f778a6/assets\n"
     ]
    },
    {
     "data": {
      "text/plain": [
       "['deep_stolen.pkl']"
      ]
     },
     "execution_count": 63,
     "metadata": {},
     "output_type": "execute_result"
    }
   ],
   "source": [
    "import joblib\n",
    "joblib.dump(X_scaler, 'deep_stolen_scale.pkl')\n",
    "joblib.dump(nn_model, 'deep_stolen.pkl')"
   ]
  },
  {
   "cell_type": "code",
   "execution_count": 65,
   "id": "e7a87bf9",
   "metadata": {},
   "outputs": [
    {
     "data": {
      "text/plain": [
       "Index(['Exchange', 'Arm_Strength', 'Sprint', 'Result_1', 'Exchange_1',\n",
       "       'Arm_Strength_1', 'Sprint_1', 'Result_2', 'Exchange_2',\n",
       "       'Arm_Strength_2', 'Sprint_2', 'Result_3', 'Exchange_3',\n",
       "       'Arm_Strength_3', 'Sprint_3', 'Result_4', 'Exchange_4',\n",
       "       'Arm_Strength_4', 'Sprint_4', 'Result_5', 'Exchange_5',\n",
       "       'Arm_Strength_5', 'Sprint_5'],\n",
       "      dtype='object')"
      ]
     },
     "execution_count": 65,
     "metadata": {},
     "output_type": "execute_result"
    }
   ],
   "source": [
    "X.columns"
   ]
  }
 ],
 "metadata": {
  "kernelspec": {
   "display_name": "mykernel",
   "language": "python",
   "name": "mykernel"
  },
  "language_info": {
   "codemirror_mode": {
    "name": "ipython",
    "version": 3
   },
   "file_extension": ".py",
   "mimetype": "text/x-python",
   "name": "python",
   "nbconvert_exporter": "python",
   "pygments_lexer": "ipython3",
   "version": "3.8.13"
  }
 },
 "nbformat": 4,
 "nbformat_minor": 5
}
